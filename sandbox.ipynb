{
 "cells": [
  {
   "cell_type": "code",
   "execution_count": null,
   "metadata": {},
   "outputs": [],
   "source": []
  },
  {
   "cell_type": "code",
   "execution_count": 2,
   "metadata": {},
   "outputs": [
    {
     "name": "stdout",
     "output_type": "stream",
     "text": [
      "Agent?team=0_0 go to top center.\n",
      "Agent?team=0_1 go to top right.\n",
      "Agent?team=0_2 go to top center.\n"
     ]
    }
   ],
   "source": [
    "from aleph_alpha_client import Client, Prompt, CompletionRequest\n",
    "import os\n",
    "\n",
    "API_KEY = os.getenv(\"AA_TOKEN\")\n",
    "aleph_alpha_model = Client(token=API_KEY)\n",
    "\n",
    "prompt = \"<|begin_of_text|><|start_header_id|>user<|end_header_id|>\\nInstruction:\\nHORIZONTAL locations: ['left', 'right', 'center']\\nVERTICAL locations: ['bottom', 'top', 'center']\\nInstruct agent(s) to go to their closest fire.\\nReply like this: <agent name> go to <VERTICAL location> <HORIZONTAL location>, for example: Agent?team=0_0 go to top center.\\nAgent location info:\\nAgent 'Agent?team=0_0' is in the center right, Agent 'Agent?team=0_1' is in the top right, Agent 'Agent?team=0_2' is in the top center.\\nFire info:\\n1 fire(s): Fire 0 is in the top right.\\nResponse:<|eot_id|><|start_header_id|>assistant<|end_header_id|>\\n\"\n",
    "\n",
    "# AlephAlpha\n",
    "params = {\n",
    "    \"prompt\": Prompt.from_text(prompt),\n",
    "    \"maximum_tokens\": 52,\n",
    "}\n",
    "\n",
    "request = CompletionRequest(**params)\n",
    "response = aleph_alpha_model.complete(request, model=\"llama-3-8b-instruct\")\n",
    "\n",
    "print(response.completions[0].completion)"
   ]
  }
 ],
 "metadata": {
  "kernelspec": {
   "display_name": "hi_marl_1",
   "language": "python",
   "name": "python3"
  },
  "language_info": {
   "codemirror_mode": {
    "name": "ipython",
    "version": 3
   },
   "file_extension": ".py",
   "mimetype": "text/x-python",
   "name": "python",
   "nbconvert_exporter": "python",
   "pygments_lexer": "ipython3",
   "version": "3.9.19"
  }
 },
 "nbformat": 4,
 "nbformat_minor": 2
}
